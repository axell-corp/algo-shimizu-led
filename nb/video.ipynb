{
 "cells": [
  {
   "cell_type": "code",
   "execution_count": 3,
   "metadata": {},
   "outputs": [
    {
     "name": "stdout",
     "output_type": "stream",
     "text": [
      "(1030, 730, 3)\n"
     ]
    }
   ],
   "source": [
    "import cv2\n",
    "import numpy as np\n",
    "\n",
    "img = cv2.imread(\"../data/data.png\")\n",
    "s = (img.shape[1], img.shape[0])\n",
    "w = cv2.VideoWriter(\"./output.mp4\", cv2.VideoWriter.fourcc(*\"mp4v\"), 30.0, (300, 200))\n",
    "print(img.shape)\n",
    "for i in range(500):\n",
    "    w.write(np.ones((200, 300, 3)) * (i % 200))\n",
    "w.release()"
   ]
  }
 ],
 "metadata": {
  "kernelspec": {
   "display_name": "Python 3",
   "language": "python",
   "name": "python3"
  },
  "language_info": {
   "codemirror_mode": {
    "name": "ipython",
    "version": 3
   },
   "file_extension": ".py",
   "mimetype": "text/x-python",
   "name": "python",
   "nbconvert_exporter": "python",
   "pygments_lexer": "ipython3",
   "version": "3.12.2"
  }
 },
 "nbformat": 4,
 "nbformat_minor": 2
}
